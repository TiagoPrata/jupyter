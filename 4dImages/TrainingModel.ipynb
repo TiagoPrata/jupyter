{
 "cells": [
  {
   "cell_type": "code",
   "execution_count": 9,
   "metadata": {
    "collapsed": true
   },
   "outputs": [],
   "source": [
    "import os\n",
    "%matplotlib inline\n",
    "import matplotlib.pyplot as plot\n",
    "from IPython import display\n",
    "\n",
    "import sys\n",
    "import numpy as np\n",
    "import numpy.random as nr"
   ]
  },
  {
   "cell_type": "code",
   "execution_count": 10,
   "metadata": {},
   "outputs": [
    {
     "name": "stdout",
     "output_type": "stream",
     "text": [
      "number of train samples: 1278\n",
      "number of validation samples: 689\n"
     ]
    }
   ],
   "source": [
    "train_data_dir = 'images\\\\train'\n",
    "validation_data_dir = 'images\\\\validation'\n",
    "nb_train_samples = len([name for name in os.listdir(train_data_dir + '\\\\chute') if os.path.isfile(os.path.join(train_data_dir + '\\\\chute', name))])\n",
    "nb_validation_samples = len([name for name in os.listdir(validation_data_dir + '\\\\chute') if os.path.isfile(os.path.join(validation_data_dir + '\\\\chute', name))])\n",
    "\n",
    "print('number of train samples: ' + str(nb_train_samples))\n",
    "print('number of validation samples: ' + str(nb_validation_samples))"
   ]
  },
  {
   "cell_type": "code",
   "execution_count": 11,
   "metadata": {},
   "outputs": [],
   "source": [
    "import keras\n",
    "from keras.preprocessing.image import ImageDataGenerator, load_img, img_to_array\n",
    "from keras.models import Sequential\n",
    "from keras.layers import Conv2D, MaxPooling2D\n",
    "from keras.layers import Activation, Dropout, Flatten, Dense"
   ]
  },
  {
   "cell_type": "code",
   "execution_count": 12,
   "metadata": {
    "collapsed": true
   },
   "outputs": [],
   "source": [
    "# dimensions of our images.\n",
    "img_width, img_height = 390, 291\n",
    "\n",
    "# this is the augmentation configuration we will use for training\n",
    "train_datagen = ImageDataGenerator(\n",
    "        rescale=1./255,\n",
    "        shear_range=0.2,\n",
    "        zoom_range=0.2,\n",
    "        horizontal_flip=True)\n",
    "\n",
    "# this is the augmentation configuration we will use for testing:\n",
    "# only rescaling\n",
    "test_datagen = ImageDataGenerator(rescale=1./255)"
   ]
  },
  {
   "cell_type": "code",
   "execution_count": 13,
   "metadata": {},
   "outputs": [
    {
     "name": "stdout",
     "output_type": "stream",
     "text": [
      "Found 2556 images belonging to 2 classes.\n",
      "Found 1378 images belonging to 2 classes.\n"
     ]
    }
   ],
   "source": [
    "train_generator = train_datagen.flow_from_directory(\n",
    "        train_data_dir,\n",
    "        target_size=(img_width, img_height),\n",
    "        batch_size=32,\n",
    "        class_mode='binary')\n",
    "\n",
    "validation_generator = test_datagen.flow_from_directory(\n",
    "        validation_data_dir,\n",
    "        target_size=(img_width, img_height),\n",
    "        batch_size=32,\n",
    "        class_mode='binary')"
   ]
  },
  {
   "cell_type": "code",
   "execution_count": 14,
   "metadata": {},
   "outputs": [
    {
     "name": "stdout",
     "output_type": "stream",
     "text": [
      "Keras  2.0.6\n",
      "_________________________________________________________________\n",
      "Layer (type)                 Output Shape              Param #   \n",
      "=================================================================\n",
      "conv2d_7 (Conv2D)            (None, 388, 289, 32)      896       \n",
      "_________________________________________________________________\n",
      "activation_11 (Activation)   (None, 388, 289, 32)      0         \n",
      "_________________________________________________________________\n",
      "max_pooling2d_7 (MaxPooling2 (None, 194, 144, 32)      0         \n",
      "_________________________________________________________________\n",
      "conv2d_8 (Conv2D)            (None, 192, 142, 32)      9248      \n",
      "_________________________________________________________________\n",
      "activation_12 (Activation)   (None, 192, 142, 32)      0         \n",
      "_________________________________________________________________\n",
      "max_pooling2d_8 (MaxPooling2 (None, 96, 71, 32)        0         \n",
      "_________________________________________________________________\n",
      "conv2d_9 (Conv2D)            (None, 94, 69, 64)        18496     \n",
      "_________________________________________________________________\n",
      "activation_13 (Activation)   (None, 94, 69, 64)        0         \n",
      "_________________________________________________________________\n",
      "max_pooling2d_9 (MaxPooling2 (None, 47, 34, 64)        0         \n",
      "_________________________________________________________________\n",
      "flatten_3 (Flatten)          (None, 102272)            0         \n",
      "_________________________________________________________________\n",
      "dense_5 (Dense)              (None, 64)                6545472   \n",
      "_________________________________________________________________\n",
      "activation_14 (Activation)   (None, 64)                0         \n",
      "_________________________________________________________________\n",
      "dropout_3 (Dropout)          (None, 64)                0         \n",
      "_________________________________________________________________\n",
      "dense_6 (Dense)              (None, 1)                 65        \n",
      "_________________________________________________________________\n",
      "activation_15 (Activation)   (None, 1)                 0         \n",
      "=================================================================\n",
      "Total params: 6,574,177\n",
      "Trainable params: 6,574,177\n",
      "Non-trainable params: 0\n",
      "_________________________________________________________________\n"
     ]
    }
   ],
   "source": [
    "print ('Keras ', keras.__version__)\n",
    "\n",
    "class LeNet:\n",
    "    @staticmethod\n",
    "    def build(img_width, img_height):\n",
    "        model = Sequential()\n",
    "        model.add(Conv2D(32, (3, 3), input_shape=(img_width, img_height, 3)))\n",
    "        model.add(Activation('relu'))\n",
    "        model.add(MaxPooling2D(pool_size=(2, 2)))\n",
    "\n",
    "        model.add(Conv2D(32, (3, 3)))\n",
    "        model.add(Activation('relu'))\n",
    "        model.add(MaxPooling2D(pool_size=(2, 2)))\n",
    "\n",
    "        model.add(Conv2D(64, (3, 3)))\n",
    "        model.add(Activation('relu'))\n",
    "        model.add(MaxPooling2D(pool_size=(2, 2)))\n",
    "\n",
    "        model.add(Flatten())\n",
    "        model.add(Dense(64))\n",
    "        model.add(Activation('relu'))\n",
    "\n",
    "        model.add(Dropout(0.5))\n",
    "\n",
    "        model.add(Dense(1))\n",
    "        model.add(Activation('sigmoid'))\n",
    "        \n",
    "        return model\n",
    "\n",
    "LeNet.build(img_width, img_height).summary()"
   ]
  },
  {
   "cell_type": "code",
   "execution_count": 15,
   "metadata": {},
   "outputs": [
    {
     "name": "stdout",
     "output_type": "stream",
     "text": [
      "[INFO] creating model...\n",
      "[INFO] compiling model...\n"
     ]
    }
   ],
   "source": [
    "from my_keras_utilities import (load_model_and_history, \n",
    "                                TrainingPlotter)\n",
    "\n",
    "model_name = 'models\\\\4dImages_1'\n",
    "\n",
    "if not os.path.isfile(model_name + '.model'):\n",
    "    print(\"[INFO] creating model...\")\n",
    "    model = LeNet.build(img_width, img_height)\n",
    "    \n",
    "    # History, checkpoint, earlystop, plot losses:\n",
    "    histo = TrainingPlotter(n=1, filepath=model_name, patience=10)\n",
    "    \n",
    "    # initialize the optimizer and model\n",
    "    print(\"[INFO] compiling model...\")\n",
    "    model.compile(loss=\"binary_crossentropy\", optimizer='adam', metrics=[\"accuracy\"])    \n",
    "    \n",
    "else:\n",
    "    print(\"[INFO] loading model...\")\n",
    "    model, histo = load_model_and_history(model_name)"
   ]
  },
  {
   "cell_type": "code",
   "execution_count": 16,
   "metadata": {},
   "outputs": [
    {
     "data": {
      "image/png": "[encoded data removed]",
      "text/plain": [
       "<matplotlib.figure.Figure at 0x242009f6940>"
      ]
     },
     "metadata": {},
     "output_type": "display_data"
    }
   ],
   "source": [
    "nb_epoch = 50    # trocar para 50\n",
    "ploss = 1.0\n",
    "\n",
    "nepochs = nb_epoch - histo.get_nepochs()\n",
    "\n",
    "fig = plot.figure(figsize=(15,6))\n",
    "plot.ylim(0.0, ploss)\n",
    "plot.xlim(0, nb_epoch)\n",
    "plot.grid(True)\n",
    "\n",
    "if nepochs > 0:\n",
    "    print(\"[INFO] training...\")\n",
    "    try:\n",
    "        model.fit_generator(\n",
    "            train_generator,\n",
    "            samples_per_epoch=nb_train_samples,\n",
    "            nb_epoch=nepochs,\n",
    "            validation_data=validation_generator,\n",
    "            nb_val_samples=nb_validation_samples,\n",
    "            verbose=0,\n",
    "            callbacks=[histo],\n",
    "        )\n",
    "        \n",
    "    except KeyboardInterrupt:\n",
    "        pass\n",
    "else:\n",
    "    print(\"[INFO] plotting...\")"
   ]
  },
  {
   "cell_type": "code",
   "execution_count": null,
   "metadata": {
    "collapsed": true
   },
   "outputs": [],
   "source": []
  }
 ],
 "metadata": {
  "kernelspec": {
   "display_name": "Python 3",
   "language": "python",
   "name": "python3"
  },
  "language_info": {
   "codemirror_mode": {
    "name": "ipython",
    "version": 3
   },
   "file_extension": ".py",
   "mimetype": "text/x-python",
   "name": "python",
   "nbconvert_exporter": "python",
   "pygments_lexer": "ipython3",
   "version": "3.5.3"
  }
 },
 "nbformat": 4,
 "nbformat_minor": 2
}
